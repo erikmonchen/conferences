{
    "metadata": {
        "kernelspec": {
            "name": "SQL",
            "display_name": "SQL",
            "language": "sql"
        },
        "language_info": {
            "name": "sql",
            "version": ""
        }
    },
    "nbformat_minor": 2,
    "nbformat": 4,
    "cells": [
        {
            "cell_type": "markdown",
            "source": [
                "# Overview of database files and file groups"
            ],
            "metadata": {
                "azdata_cell_guid": "995c11c7-180b-477b-9911-90912c63b57f"
            }
        },
        {
            "cell_type": "code",
            "source": [
                "SELECT\r\n",
                "    db.name AS DBName,\r\n",
                "    mf.type_desc AS FileType,\r\n",
                "    ds.name AS FileGroup,\r\n",
                "    Physical_Name AS Location\r\n",
                "FROM\r\n",
                "    sys.master_files mf\r\n",
                "INNER JOIN sys.databases db ON db.database_id = mf.database_id\r\n",
                "INNER JOIN sys.data_spaces ds ON ds.data_space_id = mf.data_space_id\r\n",
                "WHERE db.name = 'WideWorldImporters'\r\n",
                ""
            ],
            "metadata": {
                "azdata_cell_guid": "e104f13e-6c69-4200-a2ff-9ef0c1f9075a",
                "tags": []
            },
            "outputs": [
                {
                    "output_type": "display_data",
                    "data": {
                        "text/html": "(3 rows affected)"
                    },
                    "metadata": {}
                },
                {
                    "output_type": "display_data",
                    "data": {
                        "text/html": "Total execution time: 00:00:00.058"
                    },
                    "metadata": {}
                },
                {
                    "output_type": "execute_result",
                    "metadata": {},
                    "execution_count": 82,
                    "data": {
                        "application/vnd.dataresource+json": {
                            "schema": {
                                "fields": [
                                    {
                                        "name": "DBName"
                                    },
                                    {
                                        "name": "FileType"
                                    },
                                    {
                                        "name": "FileGroup"
                                    },
                                    {
                                        "name": "Location"
                                    }
                                ]
                            },
                            "data": [
                                {
                                    "0": "WideWorldImporters",
                                    "1": "ROWS",
                                    "2": "PRIMARY",
                                    "3": "C:\\Program Files\\Microsoft SQL Server\\MSSQL13.MSSQLSERVER\\MSSQL\\DATA\\WideWorldImporters.mdf"
                                },
                                {
                                    "0": "WideWorldImporters",
                                    "1": "ROWS",
                                    "2": "USERDATA",
                                    "3": "C:\\Program Files\\Microsoft SQL Server\\MSSQL13.MSSQLSERVER\\MSSQL\\DATA\\WideWorldImporters_UserData.ndf"
                                },
                                {
                                    "0": "WideWorldImporters",
                                    "1": "FILESTREAM",
                                    "2": "WWI_InMemory_Data",
                                    "3": "C:\\Program Files\\Microsoft SQL Server\\MSSQL13.MSSQLSERVER\\MSSQL\\DATA\\WideWorldImporters_InMemory_Data_1"
                                }
                            ]
                        },
                        "text/html": [
                            "<table>",
                            "<tr><th>DBName</th><th>FileType</th><th>FileGroup</th><th>Location</th></tr>",
                            "<tr><td>WideWorldImporters</td><td>ROWS</td><td>PRIMARY</td><td>C:\\Program Files\\Microsoft SQL Server\\MSSQL13.MSSQLSERVER\\MSSQL\\DATA\\WideWorldImporters.mdf</td></tr>",
                            "<tr><td>WideWorldImporters</td><td>ROWS</td><td>USERDATA</td><td>C:\\Program Files\\Microsoft SQL Server\\MSSQL13.MSSQLSERVER\\MSSQL\\DATA\\WideWorldImporters_UserData.ndf</td></tr>",
                            "<tr><td>WideWorldImporters</td><td>FILESTREAM</td><td>WWI_InMemory_Data</td><td>C:\\Program Files\\Microsoft SQL Server\\MSSQL13.MSSQLSERVER\\MSSQL\\DATA\\WideWorldImporters_InMemory_Data_1</td></tr>",
                            "</table>"
                        ]
                    }
                }
            ],
            "execution_count": 82
        },
        {
            "cell_type": "markdown",
            "source": [
                "# Delete Scheme and Function to start over"
            ],
            "metadata": {
                "azdata_cell_guid": "a6bb4d7f-2d5e-4210-94ca-f158a0b680ff"
            }
        },
        {
            "cell_type": "code",
            "source": [
                "IF EXISTS (SELECT * FROM sys.partition_schemes WHERE name = 'PS_OrderDate')  DROP PARTITION SCHEME [PS_OrderDate];\r\n",
                "GO \r\n",
                "IF EXISTS (SELECT * FROM sys.partition_functions WHERE name = 'PF_OrderDate')  DROP PARTITION FUNCTION [PF_OrderDate];\r\n",
                "GO"
            ],
            "metadata": {
                "azdata_cell_guid": "8a476b2b-0211-4103-9874-00e5fb910d9d",
                "tags": []
            },
            "outputs": [],
            "execution_count": null
        },
        {
            "cell_type": "markdown",
            "source": [
                "# Create Partition Function and Scheme"
            ],
            "metadata": {
                "azdata_cell_guid": "917db236-6f75-4b71-a58a-2c92fc1a0766"
            }
        },
        {
            "cell_type": "code",
            "source": [
                "-- Create Partition Function dynamically from 2019-08-01 to three months ago\r\n",
                "DECLARE @WorkingDate DATE;\r\n",
                "DECLARE @DateString NVARCHAR(MAX);\r\n",
                "DECLARE @PartitionCountPrimary INT;\r\n",
                "DECLARE @PartitionCountSecondary INT;\r\n",
                "DECLARE @sql_function NVARCHAR(max);\r\n",
                "\r\n",
                "SET @WorkingDate = '20191001';\r\n",
                "SET @DateString = N'';\r\n",
                "SET @PartitionCountPrimary = 0;\r\n",
                "SET @PartitionCountSecondary = 0;\r\n",
                "\r\n",
                "-- Loop per month\r\n",
                "WHILE @WorkingDate < DATEADD(MONTH, -2, CONVERT(DATE, FORMAT(GETDATE(), 'yyyy-MM-01'))) -- Set the number of months to create monthly partitions\r\n",
                "BEGIN\r\n",
                "    SET @DateString = @DateString + CONVERT(NVARCHAR(8), @WorkingDate, 112) + N', ';\r\n",
                "\tSET @PartitionCountSecondary = @PartitionCountSecondary + 1;\r\n",
                "    SET @WorkingDate = DATEADD(MONTH, 1, @WorkingDate);\r\n",
                "END;\r\n",
                "\r\n",
                "-- Loop per day from the last three months\r\n",
                "WHILE @WorkingDate <= CONVERT(DATE, GETDATE()) -- Loop through single days\r\n",
                "BEGIN\r\n",
                "    SET @DateString = @DateString + CONVERT(NVARCHAR(8), @WorkingDate, 112) + N', ';\r\n",
                "\tSET @PartitionCountPrimary = @PartitionCountPrimary + 1;\r\n",
                "    SET @WorkingDate = DATEADD(DAY, 1, @WorkingDate);\r\n",
                "END;\r\n",
                "\r\n",
                "SET @DateString = @DateString + CONVERT(NVARCHAR(8), @WorkingDate, 112);\r\n",
                "SET @PartitionCountPrimary = @PartitionCountPrimary + 1;\r\n",
                "\r\n",
                "SET @sql_function = 'CREATE PARTITION FUNCTION [PF_OrderDate] (INT) AS RANGE RIGHT FOR VALUES (' + @DateString + ')'\r\n",
                "\r\n",
                "PRINT '--> The following script is executed to create the partition function, it defines the boundaries of the partition'\r\n",
                "PRINT @sql_function\r\n",
                "EXEC sp_executesql @sql_function;\r\n",
                "\r\n",
                "-- Create Partition Scheme dynamically based on the Partition Function (canr be replaced by \"ALL TO\" when all partitions need to be in one filegroup!)\r\n",
                "DECLARE @sql_scheme NVARCHAR(MAX);\r\n",
                "DECLARE @loopCount INT = 0;\r\n",
                "\r\n",
                "SET @sql_scheme = 'CREATE PARTITION SCHEME PS_OrderDate AS PARTITION [PF_OrderDate] TO ('\r\n",
                "\r\n",
                "WHILE @loopCount < @PartitionCountSecondary\r\n",
                "BEGIN\r\n",
                "\t\r\n",
                "\tSET @sql_scheme = @sql_scheme + '[USERDATA], ';\r\n",
                "\t\r\n",
                "\tSET @loopCount = @loopCount + 1;\r\n",
                "END\r\n",
                "SET @sql_scheme = @sql_scheme + '[USERDATA], ' -- Last one without a trailing comma\r\n",
                "\r\n",
                "SET @loopCount = 0;\r\n",
                "WHILE @loopCount < @PartitionCountPrimary\r\n",
                "BEGIN\r\n",
                "\t\r\n",
                "\tSET @sql_scheme = @sql_scheme + '[PRIMARY], ';\r\n",
                "\t\r\n",
                "\tSET @loopCount = @loopCount + 1;\r\n",
                "END\r\n",
                "SET @sql_scheme = @sql_scheme + '[PRIMARY]);' -- Last one without a trailing comma\r\n",
                "\r\n",
                "PRINT '--> The following script is executed to create the partition scheme, it defines on which filegroups the partitions are located'\r\n",
                "PRINT @sql_scheme\r\n",
                "\r\n",
                "EXEC sp_executesql @sql_scheme;\r\n",
                "GO"
            ],
            "metadata": {
                "azdata_cell_guid": "b87e96ef-f058-45ec-a4d3-594f9cb61086",
                "tags": []
            },
            "outputs": [
                {
                    "output_type": "display_data",
                    "data": {
                        "text/html": "--> The following script is executed to create the partition function, it defines the boundaries of the partition"
                    },
                    "metadata": {}
                },
                {
                    "output_type": "display_data",
                    "data": {
                        "text/html": "CREATE PARTITION FUNCTION [PF_OrderDate] (INT) AS RANGE RIGHT FOR VALUES (20191001, 20191101, 20191201, 20200101, 20200201, 20200301, 20200401, 20200501, 20200601, 20200701, 20200801, 20200901, 20201001, 20201101, 20201201, 20210101, 20210201, 20210301, 20210401, 20210402, 20210403, 20210404, 20210405, 20210406, 20210407, 20210408, 20210409, 20210410, 20210411, 20210412, 20210413, 20210414, 20210415, 20210416, 20210417, 20210418, 20210419, 20210420, 20210421, 20210422, 20210423, 20210424, 20210425, 20210426, 20210427, 20210428, 20210429, 20210430, 20210501, 20210502, 20210503, 20210504, 20210505, 20210506, 20210507, 20210508, 20210509, 20210510, 20210511, 20210512, 20210513, 20210514, 20210515, 20210516, 20210517, 20210518, 20210519, 20210520, 20210521, 20210522, 20210523, 20210524, 20210525, 20210526, 20210527, 20210528, 20210529, 20210530, 20210531, 20210601, 20210602, 20210603, 20210604, 20210605, 20210606, 20210607, 20210608, 20210609, 20210610, 20210611, 20210612, 20210613)"
                    },
                    "metadata": {}
                },
                {
                    "output_type": "error",
                    "evalue": "Msg 2714, Level 16, State 58, Line 1\r\nIn der Datenbank ist bereits ein Objekt mit dem Namen \"PF_OrderDate\" vorhanden.",
                    "ename": "",
                    "traceback": []
                },
                {
                    "output_type": "display_data",
                    "data": {
                        "text/html": "Total execution time: 00:00:00.007"
                    },
                    "metadata": {}
                }
            ],
            "execution_count": 84
        },
        {
            "cell_type": "markdown",
            "source": [
                "# Delete and Create Clustered Index on partition-column"
            ],
            "metadata": {
                "azdata_cell_guid": "577b4f51-e6ea-4667-8786-f67f0f2bfef6"
            }
        },
        {
            "cell_type": "code",
            "source": [
                "IF EXISTS (SELECT * FROM sys.indexes WHERE name = 'IX_Sales_Orders_OrderDate') DROP INDEX IX_Sales_Orders_OrderDate ON Sales.Orders_Part;\r\n",
                "GO\r\n",
                "CREATE CLUSTERED INDEX IX_Sales_Orders_OrderDate\r\n",
                "  ON Sales.Orders_Part (OrderDate_int)\r\n",
                "  WITH (STATISTICS_NORECOMPUTE = OFF, IGNORE_DUP_KEY = OFF,\r\n",
                "         ALLOW_ROW_LOCKS = ON, ALLOW_PAGE_LOCKS = ON)\r\n",
                "  ON PS_OrderDate(OrderDate_int)"
            ],
            "metadata": {
                "azdata_cell_guid": "e79ee7d3-6c55-449f-84aa-bbcfd5c66819",
                "tags": []
            },
            "outputs": [
                {
                    "output_type": "display_data",
                    "data": {
                        "text/html": "Commands completed successfully."
                    },
                    "metadata": {}
                },
                {
                    "output_type": "display_data",
                    "data": {
                        "text/html": "Commands completed successfully."
                    },
                    "metadata": {}
                },
                {
                    "output_type": "display_data",
                    "data": {
                        "text/html": "Total execution time: 00:00:09.510"
                    },
                    "metadata": {}
                }
            ],
            "execution_count": 85
        },
        {
            "cell_type": "markdown",
            "source": [
                "### Use this code to unpartition (to \"reset\" the test)"
            ],
            "metadata": {
                "azdata_cell_guid": "b6ee457e-feea-4a7a-acf4-d1b73c37f097"
            }
        },
        {
            "cell_type": "code",
            "source": [
                "CREATE CLUSTERED INDEX IX_Sales_Orders_OrderDate\r\n",
                "    ON Sales.Orders_Part (OrderDate_int)\r\n",
                "    WITH (DROP_EXISTING = ON)\r\n",
                "    ON [PRIMARY];\r\n",
                "GO"
            ],
            "metadata": {
                "azdata_cell_guid": "87175cab-9313-464b-9a74-c0a1d6e185a7",
                "tags": []
            },
            "outputs": [],
            "execution_count": null
        },
        {
            "cell_type": "markdown",
            "source": [
                "# Step 1: A different table on the slow partition needs to be created to move all data from three months ago into one partition"
            ],
            "metadata": {
                "azdata_cell_guid": "a78c227e-a0a1-4350-9e17-d57f29eb600f"
            }
        },
        {
            "cell_type": "markdown",
            "source": [
                "## Step 1a: Create table"
            ],
            "metadata": {
                "azdata_cell_guid": "c5dd991d-6b97-4fbf-81b6-cab137224840"
            }
        },
        {
            "cell_type": "code",
            "source": [
                "DROP TABLE IF EXISTS [Sales].[Orders_Part_Merge];\r\n",
                "CREATE TABLE [Sales].[Orders_Part_Merge](\r\n",
                "\t[OrderID] [int] NOT NULL,\r\n",
                "\t[CustomerID] [int] NOT NULL,\r\n",
                "\t[SalespersonPersonID] [int] NOT NULL,\r\n",
                "\t[PickedByPersonID] [int] NULL,\r\n",
                "\t[ContactPersonID] [int] NOT NULL,\r\n",
                "\t[BackorderOrderID] [int] NULL,\r\n",
                "\t[OrderDate] [date] NOT NULL,\r\n",
                "\t[OrderDate_int] [int] NOT NULL,\r\n",
                "\t[ExpectedDeliveryDate] [date] NOT NULL,\r\n",
                "\t[CustomerPurchaseOrderNumber] [nvarchar](20) NULL,\r\n",
                "\t[IsUndersupplyBackordered] [bit] NOT NULL,\r\n",
                "\t[Comments] [nvarchar](max) NULL,\r\n",
                "\t[DeliveryInstructions] [nvarchar](max) NULL,\r\n",
                "\t[InternalComments] [nvarchar](max) NULL,\r\n",
                "\t[PickingCompletedWhen] [datetime2](7) NULL,\r\n",
                "\t[LastEditedBy] [int] NOT NULL,\r\n",
                "\t[LastEditedWhen] [datetime2](7) NOT NULL\r\n",
                ")\r\n",
                "ON [USERDATA]\r\n",
                "GO"
            ],
            "metadata": {
                "azdata_cell_guid": "130c51e6-e2f0-4c15-b284-85c9b657dd13",
                "tags": []
            },
            "outputs": [
                {
                    "output_type": "display_data",
                    "data": {
                        "text/html": "Commands completed successfully."
                    },
                    "metadata": {}
                },
                {
                    "output_type": "display_data",
                    "data": {
                        "text/html": "Total execution time: 00:00:00.007"
                    },
                    "metadata": {}
                }
            ],
            "execution_count": 86
        },
        {
            "cell_type": "markdown",
            "source": [
                "## Step 1b: Move data from daily partitions into the other table"
            ],
            "metadata": {
                "azdata_cell_guid": "d8767ae5-6d38-4322-8ffe-4999b3808fea"
            }
        },
        {
            "cell_type": "code",
            "source": [
                "DECLARE @RangeFrom DATE;\r\n",
                "DECLARE @RangeTo DATE;\r\n",
                "DECLARE @WorkingDate DATE;\r\n",
                "\r\n",
                "SET @RangeFrom = (SELECT TOP(1) CONVERT(DATE, FORMAT(DATEADD(MONTH, -2, GETDATE()), 'yyyy-MM') + '-01'));\r\n",
                "SET @RangeTo = DATEADD(MONTH, 1, @RangeFrom);\r\n",
                "SET @WorkingDate = @RangeFrom;\r\n",
                "\r\n",
                "PRINT 'Range from: ' + CONVERT(varchar(10), @RangeFrom);\r\n",
                "PRINT 'Range to: ' + CONVERT(varchar(10), @RangeTo);\r\n",
                "\r\n",
                "WHILE @WorkingDate < @RangeTo\r\n",
                "BEGIN\r\n",
                "\t\r\n",
                "\t-- Insert into the table\r\n",
                "\tINSERT INTO\t[Sales].[Orders_Part_Merge] WITH (TABLOCKX)\r\n",
                "    (\r\n",
                "       [OrderID]\r\n",
                "      ,[CustomerID]\r\n",
                "      ,[SalespersonPersonID]\r\n",
                "      ,[PickedByPersonID]\r\n",
                "      ,[ContactPersonID]\r\n",
                "      ,[BackorderOrderID]\r\n",
                "      ,[OrderDate]\r\n",
                "      ,[OrderDate_int]\r\n",
                "      ,[ExpectedDeliveryDate]\r\n",
                "      ,[CustomerPurchaseOrderNumber]\r\n",
                "      ,[IsUndersupplyBackordered]\r\n",
                "      ,[Comments]\r\n",
                "      ,[DeliveryInstructions]\r\n",
                "      ,[InternalComments]\r\n",
                "      ,[PickingCompletedWhen]\r\n",
                "      ,[LastEditedBy]\r\n",
                "      ,[LastEditedWhen]\r\n",
                "    )\r\n",
                "\r\n",
                "\tSELECT [OrderID]\r\n",
                "      ,[CustomerID]\r\n",
                "      ,[SalespersonPersonID]\r\n",
                "      ,[PickedByPersonID]\r\n",
                "      ,[ContactPersonID]\r\n",
                "      ,[BackorderOrderID]\r\n",
                "      ,[OrderDate]\r\n",
                "      ,[OrderDate_int]\r\n",
                "      ,[ExpectedDeliveryDate]\r\n",
                "      ,[CustomerPurchaseOrderNumber]\r\n",
                "      ,[IsUndersupplyBackordered]\r\n",
                "      ,[Comments]\r\n",
                "      ,[DeliveryInstructions]\r\n",
                "      ,[InternalComments]\r\n",
                "      ,[PickingCompletedWhen]\r\n",
                "      ,[LastEditedBy]\r\n",
                "      ,[LastEditedWhen] FROM [Sales].[Orders_Part] \r\n",
                "\tWHERE CONVERT(DATE, [OrderDate]) = @WorkingDate\r\n",
                "\r\n",
                "    PRINT 'Inserted for ' + CONVERT(varchar(10), @WorkingDate);\r\n",
                "\r\n",
                "\tSET @WorkingDate = DATEADD(DAY, 1, @WorkingDate);\r\n",
                "END\r\n",
                "GO"
            ],
            "metadata": {
                "azdata_cell_guid": "c309e3f5-12f2-4e16-b087-f045fbda2679",
                "tags": []
            },
            "outputs": [
                {
                    "output_type": "display_data",
                    "data": {
                        "text/html": "Range from: 2021-04-01"
                    },
                    "metadata": {}
                },
                {
                    "output_type": "display_data",
                    "data": {
                        "text/html": "Range to: 2021-05-01"
                    },
                    "metadata": {}
                },
                {
                    "output_type": "display_data",
                    "data": {
                        "text/html": "(1431 rows affected)"
                    },
                    "metadata": {}
                },
                {
                    "output_type": "display_data",
                    "data": {
                        "text/html": "Inserted for 2021-04-01"
                    },
                    "metadata": {}
                },
                {
                    "output_type": "display_data",
                    "data": {
                        "text/html": "(1412 rows affected)"
                    },
                    "metadata": {}
                },
                {
                    "output_type": "display_data",
                    "data": {
                        "text/html": "Inserted for 2021-04-02"
                    },
                    "metadata": {}
                },
                {
                    "output_type": "display_data",
                    "data": {
                        "text/html": "(1475 rows affected)"
                    },
                    "metadata": {}
                },
                {
                    "output_type": "display_data",
                    "data": {
                        "text/html": "Inserted for 2021-04-03"
                    },
                    "metadata": {}
                },
                {
                    "output_type": "display_data",
                    "data": {
                        "text/html": "(1439 rows affected)"
                    },
                    "metadata": {}
                },
                {
                    "output_type": "display_data",
                    "data": {
                        "text/html": "Inserted for 2021-04-04"
                    },
                    "metadata": {}
                },
                {
                    "output_type": "display_data",
                    "data": {
                        "text/html": "(1405 rows affected)"
                    },
                    "metadata": {}
                },
                {
                    "output_type": "display_data",
                    "data": {
                        "text/html": "Inserted for 2021-04-05"
                    },
                    "metadata": {}
                },
                {
                    "output_type": "display_data",
                    "data": {
                        "text/html": "(1484 rows affected)"
                    },
                    "metadata": {}
                },
                {
                    "output_type": "display_data",
                    "data": {
                        "text/html": "Inserted for 2021-04-06"
                    },
                    "metadata": {}
                },
                {
                    "output_type": "display_data",
                    "data": {
                        "text/html": "(1443 rows affected)"
                    },
                    "metadata": {}
                },
                {
                    "output_type": "display_data",
                    "data": {
                        "text/html": "Inserted for 2021-04-07"
                    },
                    "metadata": {}
                },
                {
                    "output_type": "display_data",
                    "data": {
                        "text/html": "(1497 rows affected)"
                    },
                    "metadata": {}
                },
                {
                    "output_type": "display_data",
                    "data": {
                        "text/html": "Inserted for 2021-04-08"
                    },
                    "metadata": {}
                },
                {
                    "output_type": "display_data",
                    "data": {
                        "text/html": "(1430 rows affected)"
                    },
                    "metadata": {}
                },
                {
                    "output_type": "display_data",
                    "data": {
                        "text/html": "Inserted for 2021-04-09"
                    },
                    "metadata": {}
                },
                {
                    "output_type": "display_data",
                    "data": {
                        "text/html": "(1460 rows affected)"
                    },
                    "metadata": {}
                },
                {
                    "output_type": "display_data",
                    "data": {
                        "text/html": "Inserted for 2021-04-10"
                    },
                    "metadata": {}
                },
                {
                    "output_type": "display_data",
                    "data": {
                        "text/html": "(1474 rows affected)"
                    },
                    "metadata": {}
                },
                {
                    "output_type": "display_data",
                    "data": {
                        "text/html": "Inserted for 2021-04-11"
                    },
                    "metadata": {}
                },
                {
                    "output_type": "display_data",
                    "data": {
                        "text/html": "(1494 rows affected)"
                    },
                    "metadata": {}
                },
                {
                    "output_type": "display_data",
                    "data": {
                        "text/html": "Inserted for 2021-04-12"
                    },
                    "metadata": {}
                },
                {
                    "output_type": "display_data",
                    "data": {
                        "text/html": "(1501 rows affected)"
                    },
                    "metadata": {}
                },
                {
                    "output_type": "display_data",
                    "data": {
                        "text/html": "Inserted for 2021-04-13"
                    },
                    "metadata": {}
                },
                {
                    "output_type": "display_data",
                    "data": {
                        "text/html": "(1461 rows affected)"
                    },
                    "metadata": {}
                },
                {
                    "output_type": "display_data",
                    "data": {
                        "text/html": "Inserted for 2021-04-14"
                    },
                    "metadata": {}
                },
                {
                    "output_type": "display_data",
                    "data": {
                        "text/html": "(1466 rows affected)"
                    },
                    "metadata": {}
                },
                {
                    "output_type": "display_data",
                    "data": {
                        "text/html": "Inserted for 2021-04-15"
                    },
                    "metadata": {}
                },
                {
                    "output_type": "display_data",
                    "data": {
                        "text/html": "(1463 rows affected)"
                    },
                    "metadata": {}
                },
                {
                    "output_type": "display_data",
                    "data": {
                        "text/html": "Inserted for 2021-04-16"
                    },
                    "metadata": {}
                },
                {
                    "output_type": "display_data",
                    "data": {
                        "text/html": "(1373 rows affected)"
                    },
                    "metadata": {}
                },
                {
                    "output_type": "display_data",
                    "data": {
                        "text/html": "Inserted for 2021-04-17"
                    },
                    "metadata": {}
                },
                {
                    "output_type": "display_data",
                    "data": {
                        "text/html": "(1375 rows affected)"
                    },
                    "metadata": {}
                },
                {
                    "output_type": "display_data",
                    "data": {
                        "text/html": "Inserted for 2021-04-18"
                    },
                    "metadata": {}
                },
                {
                    "output_type": "display_data",
                    "data": {
                        "text/html": "(1427 rows affected)"
                    },
                    "metadata": {}
                },
                {
                    "output_type": "display_data",
                    "data": {
                        "text/html": "Inserted for 2021-04-19"
                    },
                    "metadata": {}
                },
                {
                    "output_type": "display_data",
                    "data": {
                        "text/html": "(1498 rows affected)"
                    },
                    "metadata": {}
                },
                {
                    "output_type": "display_data",
                    "data": {
                        "text/html": "Inserted for 2021-04-20"
                    },
                    "metadata": {}
                },
                {
                    "output_type": "display_data",
                    "data": {
                        "text/html": "(1487 rows affected)"
                    },
                    "metadata": {}
                },
                {
                    "output_type": "display_data",
                    "data": {
                        "text/html": "Inserted for 2021-04-21"
                    },
                    "metadata": {}
                },
                {
                    "output_type": "display_data",
                    "data": {
                        "text/html": "(1519 rows affected)"
                    },
                    "metadata": {}
                },
                {
                    "output_type": "display_data",
                    "data": {
                        "text/html": "Inserted for 2021-04-22"
                    },
                    "metadata": {}
                },
                {
                    "output_type": "display_data",
                    "data": {
                        "text/html": "(1499 rows affected)"
                    },
                    "metadata": {}
                },
                {
                    "output_type": "display_data",
                    "data": {
                        "text/html": "Inserted for 2021-04-23"
                    },
                    "metadata": {}
                },
                {
                    "output_type": "display_data",
                    "data": {
                        "text/html": "(1463 rows affected)"
                    },
                    "metadata": {}
                },
                {
                    "output_type": "display_data",
                    "data": {
                        "text/html": "Inserted for 2021-04-24"
                    },
                    "metadata": {}
                },
                {
                    "output_type": "display_data",
                    "data": {
                        "text/html": "(1469 rows affected)"
                    },
                    "metadata": {}
                },
                {
                    "output_type": "display_data",
                    "data": {
                        "text/html": "Inserted for 2021-04-25"
                    },
                    "metadata": {}
                },
                {
                    "output_type": "display_data",
                    "data": {
                        "text/html": "(1457 rows affected)"
                    },
                    "metadata": {}
                },
                {
                    "output_type": "display_data",
                    "data": {
                        "text/html": "Inserted for 2021-04-26"
                    },
                    "metadata": {}
                },
                {
                    "output_type": "display_data",
                    "data": {
                        "text/html": "(1446 rows affected)"
                    },
                    "metadata": {}
                },
                {
                    "output_type": "display_data",
                    "data": {
                        "text/html": "Inserted for 2021-04-27"
                    },
                    "metadata": {}
                },
                {
                    "output_type": "display_data",
                    "data": {
                        "text/html": "(1477 rows affected)"
                    },
                    "metadata": {}
                },
                {
                    "output_type": "display_data",
                    "data": {
                        "text/html": "Inserted for 2021-04-28"
                    },
                    "metadata": {}
                },
                {
                    "output_type": "display_data",
                    "data": {
                        "text/html": "(1459 rows affected)"
                    },
                    "metadata": {}
                },
                {
                    "output_type": "display_data",
                    "data": {
                        "text/html": "Inserted for 2021-04-29"
                    },
                    "metadata": {}
                },
                {
                    "output_type": "display_data",
                    "data": {
                        "text/html": "(1441 rows affected)"
                    },
                    "metadata": {}
                },
                {
                    "output_type": "display_data",
                    "data": {
                        "text/html": "Inserted for 2021-04-30"
                    },
                    "metadata": {}
                },
                {
                    "output_type": "display_data",
                    "data": {
                        "text/html": "Total execution time: 00:00:05.051"
                    },
                    "metadata": {}
                }
            ],
            "execution_count": 87
        },
        {
            "cell_type": "markdown",
            "source": [
                "## Step 1c: Check content of the Merge table"
            ],
            "metadata": {
                "azdata_cell_guid": "7b09dbc6-53da-4864-846c-c9c122ab15b6"
            }
        },
        {
            "cell_type": "code",
            "source": [
                "SELECT OrderDate, count(*) AS CountRows\r\n",
                "FROM [Sales].[Orders_Part_Merge]\r\n",
                "GROUP BY OrderDate\r\n",
                "ORDER BY OrderDate"
            ],
            "metadata": {
                "azdata_cell_guid": "b5c6e4bf-f18f-44ac-8d93-e0f1d2b6e33c",
                "tags": []
            },
            "outputs": [
                {
                    "output_type": "display_data",
                    "data": {
                        "text/html": "(30 rows affected)"
                    },
                    "metadata": {}
                },
                {
                    "output_type": "display_data",
                    "data": {
                        "text/html": "Total execution time: 00:00:00.078"
                    },
                    "metadata": {}
                },
                {
                    "output_type": "execute_result",
                    "metadata": {},
                    "execution_count": 88,
                    "data": {
                        "application/vnd.dataresource+json": {
                            "schema": {
                                "fields": [
                                    {
                                        "name": "OrderDate"
                                    },
                                    {
                                        "name": "CountRows"
                                    }
                                ]
                            },
                            "data": [
                                {
                                    "0": "2021-04-01",
                                    "1": "1431"
                                },
                                {
                                    "0": "2021-04-02",
                                    "1": "1412"
                                },
                                {
                                    "0": "2021-04-03",
                                    "1": "1475"
                                },
                                {
                                    "0": "2021-04-04",
                                    "1": "1439"
                                },
                                {
                                    "0": "2021-04-05",
                                    "1": "1405"
                                },
                                {
                                    "0": "2021-04-06",
                                    "1": "1484"
                                },
                                {
                                    "0": "2021-04-07",
                                    "1": "1443"
                                },
                                {
                                    "0": "2021-04-08",
                                    "1": "1497"
                                },
                                {
                                    "0": "2021-04-09",
                                    "1": "1430"
                                },
                                {
                                    "0": "2021-04-10",
                                    "1": "1460"
                                },
                                {
                                    "0": "2021-04-11",
                                    "1": "1474"
                                },
                                {
                                    "0": "2021-04-12",
                                    "1": "1494"
                                },
                                {
                                    "0": "2021-04-13",
                                    "1": "1501"
                                },
                                {
                                    "0": "2021-04-14",
                                    "1": "1461"
                                },
                                {
                                    "0": "2021-04-15",
                                    "1": "1466"
                                },
                                {
                                    "0": "2021-04-16",
                                    "1": "1463"
                                },
                                {
                                    "0": "2021-04-17",
                                    "1": "1373"
                                },
                                {
                                    "0": "2021-04-18",
                                    "1": "1375"
                                },
                                {
                                    "0": "2021-04-19",
                                    "1": "1427"
                                },
                                {
                                    "0": "2021-04-20",
                                    "1": "1498"
                                },
                                {
                                    "0": "2021-04-21",
                                    "1": "1487"
                                },
                                {
                                    "0": "2021-04-22",
                                    "1": "1519"
                                },
                                {
                                    "0": "2021-04-23",
                                    "1": "1499"
                                },
                                {
                                    "0": "2021-04-24",
                                    "1": "1463"
                                },
                                {
                                    "0": "2021-04-25",
                                    "1": "1469"
                                },
                                {
                                    "0": "2021-04-26",
                                    "1": "1457"
                                },
                                {
                                    "0": "2021-04-27",
                                    "1": "1446"
                                },
                                {
                                    "0": "2021-04-28",
                                    "1": "1477"
                                },
                                {
                                    "0": "2021-04-29",
                                    "1": "1459"
                                },
                                {
                                    "0": "2021-04-30",
                                    "1": "1441"
                                }
                            ]
                        },
                        "text/html": [
                            "<table>",
                            "<tr><th>OrderDate</th><th>CountRows</th></tr>",
                            "<tr><td>2021-04-01</td><td>1431</td></tr>",
                            "<tr><td>2021-04-02</td><td>1412</td></tr>",
                            "<tr><td>2021-04-03</td><td>1475</td></tr>",
                            "<tr><td>2021-04-04</td><td>1439</td></tr>",
                            "<tr><td>2021-04-05</td><td>1405</td></tr>",
                            "<tr><td>2021-04-06</td><td>1484</td></tr>",
                            "<tr><td>2021-04-07</td><td>1443</td></tr>",
                            "<tr><td>2021-04-08</td><td>1497</td></tr>",
                            "<tr><td>2021-04-09</td><td>1430</td></tr>",
                            "<tr><td>2021-04-10</td><td>1460</td></tr>",
                            "<tr><td>2021-04-11</td><td>1474</td></tr>",
                            "<tr><td>2021-04-12</td><td>1494</td></tr>",
                            "<tr><td>2021-04-13</td><td>1501</td></tr>",
                            "<tr><td>2021-04-14</td><td>1461</td></tr>",
                            "<tr><td>2021-04-15</td><td>1466</td></tr>",
                            "<tr><td>2021-04-16</td><td>1463</td></tr>",
                            "<tr><td>2021-04-17</td><td>1373</td></tr>",
                            "<tr><td>2021-04-18</td><td>1375</td></tr>",
                            "<tr><td>2021-04-19</td><td>1427</td></tr>",
                            "<tr><td>2021-04-20</td><td>1498</td></tr>",
                            "<tr><td>2021-04-21</td><td>1487</td></tr>",
                            "<tr><td>2021-04-22</td><td>1519</td></tr>",
                            "<tr><td>2021-04-23</td><td>1499</td></tr>",
                            "<tr><td>2021-04-24</td><td>1463</td></tr>",
                            "<tr><td>2021-04-25</td><td>1469</td></tr>",
                            "<tr><td>2021-04-26</td><td>1457</td></tr>",
                            "<tr><td>2021-04-27</td><td>1446</td></tr>",
                            "<tr><td>2021-04-28</td><td>1477</td></tr>",
                            "<tr><td>2021-04-29</td><td>1459</td></tr>",
                            "<tr><td>2021-04-30</td><td>1441</td></tr>",
                            "</table>"
                        ]
                    }
                }
            ],
            "execution_count": 88
        },
        {
            "cell_type": "markdown",
            "source": [
                "# Step 2: Merge partition function"
            ],
            "metadata": {
                "azdata_cell_guid": "94b24f75-44c5-49c9-81f9-cc7fe83459cf"
            }
        },
        {
            "cell_type": "code",
            "source": [
                "DECLARE @RangeFrom DATE;\r\n",
                "DECLARE @RangeTo DATE;\r\n",
                "DECLARE @WorkingDate DATE;\r\n",
                "\r\n",
                "SET @RangeFrom = (SELECT TOP(1) CONVERT(DATE, FORMAT(DATEADD(MONTH, -2, GETDATE()), 'yyyy-MM') + '-02'));\r\n",
                "SET @RangeTo = DATEADD(DAY, -1, DATEADD(MONTH, 1, @RangeFrom));\r\n",
                "SET @WorkingDate = @RangeFrom;\r\n",
                "\r\n",
                "PRINT 'Range from: ' + CONVERT(varchar(10), @RangeFrom);\r\n",
                "PRINT 'Range to: ' + CONVERT(varchar(10), @RangeTo);\r\n",
                "\r\n",
                "-- Merge partitions\r\n",
                "WHILE @WorkingDate < @RangeTo\r\n",
                "BEGIN\r\n",
                "\r\n",
                "\t--PRINT @WorkingDate\r\n",
                "\tALTER PARTITION FUNCTION PF_OrderDate() MERGE RANGE (CONVERT(INT, CONVERT(nvarchar(8), @WorkingDate, 112)));\r\n",
                "\r\n",
                "\tSET @WorkingDate = DATEADD(DAY, 1, @WorkingDate);\r\n",
                "\r\n",
                "END\r\n",
                "GO\r\n",
                "\r\n",
                "--> Check Partition overview, the partition should be merged but still located on the PRIMARY partition"
            ],
            "metadata": {
                "azdata_cell_guid": "a679f260-732a-4b2c-b3ee-8e83a61ba399",
                "tags": []
            },
            "outputs": [
                {
                    "output_type": "display_data",
                    "data": {
                        "text/html": "Range from: 2021-04-02"
                    },
                    "metadata": {}
                },
                {
                    "output_type": "display_data",
                    "data": {
                        "text/html": "Range to: 2021-05-01"
                    },
                    "metadata": {}
                },
                {
                    "output_type": "display_data",
                    "data": {
                        "text/html": "Commands completed successfully."
                    },
                    "metadata": {}
                },
                {
                    "output_type": "display_data",
                    "data": {
                        "text/html": "Total execution time: 00:00:00.874"
                    },
                    "metadata": {}
                }
            ],
            "execution_count": 89
        },
        {
            "cell_type": "markdown",
            "source": [
                "# Step 3: Delete from fast storage through a temp-table"
            ],
            "metadata": {
                "azdata_cell_guid": "a9912ee2-b688-46af-9491-442d30fb5d8f"
            }
        },
        {
            "cell_type": "markdown",
            "source": [
                "## Step 3a: Create temp-table on PRIMARY"
            ],
            "metadata": {
                "azdata_cell_guid": "008545a9-f607-4621-a5ce-faf0fb2db4cc"
            }
        },
        {
            "cell_type": "code",
            "source": [
                "DROP TABLE IF EXISTS [Sales].[Orders_Part_Temp];\r\n",
                "CREATE TABLE [Sales].[Orders_Part_Temp](\r\n",
                "\t[OrderID] [int] NOT NULL,\r\n",
                "\t[CustomerID] [int] NOT NULL,\r\n",
                "\t[SalespersonPersonID] [int] NOT NULL,\r\n",
                "\t[PickedByPersonID] [int] NULL,\r\n",
                "\t[ContactPersonID] [int] NOT NULL,\r\n",
                "\t[BackorderOrderID] [int] NULL,\r\n",
                "\t[OrderDate] [date] NOT NULL,\r\n",
                "\t[OrderDate_int] [int] NOT NULL,\r\n",
                "\t[ExpectedDeliveryDate] [date] NOT NULL,\r\n",
                "\t[CustomerPurchaseOrderNumber] [nvarchar](20) NULL,\r\n",
                "\t[IsUndersupplyBackordered] [bit] NOT NULL,\r\n",
                "\t[Comments] [nvarchar](max) NULL,\r\n",
                "\t[DeliveryInstructions] [nvarchar](max) NULL,\r\n",
                "\t[InternalComments] [nvarchar](max) NULL,\r\n",
                "\t[PickingCompletedWhen] [datetime2](7) NULL,\r\n",
                "\t[LastEditedBy] [int] NOT NULL,\r\n",
                "\t[LastEditedWhen] [datetime2](7) NOT NULL\r\n",
                ")\r\n",
                "ON [PRIMARY]\r\n",
                "GO\r\n",
                "-- Clustered index should not be partitioned!!\r\n",
                "CREATE CLUSTERED INDEX IX_Sales_Orders_Temp_OrderDate ON Sales.Orders_Part_Temp (OrderDate_int)\r\n",
                "\tWITH (STATISTICS_NORECOMPUTE = OFF, IGNORE_DUP_KEY = OFF,\r\n",
                "\t\t\tALLOW_ROW_LOCKS = ON, ALLOW_PAGE_LOCKS = ON);\r\n",
                ""
            ],
            "metadata": {
                "azdata_cell_guid": "5b91c90d-d7ec-4792-8f39-091327c77dd6",
                "tags": []
            },
            "outputs": [
                {
                    "output_type": "display_data",
                    "data": {
                        "text/html": "Commands completed successfully."
                    },
                    "metadata": {}
                },
                {
                    "output_type": "display_data",
                    "data": {
                        "text/html": "Commands completed successfully."
                    },
                    "metadata": {}
                },
                {
                    "output_type": "display_data",
                    "data": {
                        "text/html": "Total execution time: 00:00:00.013"
                    },
                    "metadata": {}
                }
            ],
            "execution_count": 90
        },
        {
            "cell_type": "markdown",
            "source": [
                "## Step 3b: Switch partition to temp-table"
            ],
            "metadata": {
                "azdata_cell_guid": "bd36685b-d3ee-45da-947c-7b24578c91d1"
            }
        },
        {
            "cell_type": "code",
            "source": [
                "DECLARE @PartitionId INT;\r\n",
                "DECLARE @RightBoundary INT;\r\n",
                "\r\n",
                "SET @RightBoundary = (SELECT TOP(1) CONVERT(int, CONVERT(nvarchar(8), DATEADD(month, DATEDIFF(month, 0, DATEADD(MONTH, -1, GETDATE())), 0), 112)));\r\n",
                "\r\n",
                "SET @PartitionId = (SELECT TOP (1) p.partition_number\r\n",
                "\t\t\t\t\tFROM sys.partition_functions AS pf\r\n",
                "\t\t\t\t\tJOIN sys.partition_schemes AS ps ON ps.function_id = pf.function_id\r\n",
                "\t\t\t\t\tJOIN sys.indexes AS si ON si.data_space_id = ps.data_space_id\r\n",
                "\t\t\t\t\tJOIN sys.partitions AS p ON  si.object_id = p.object_id AND si.index_id = p.index_id\r\n",
                "\t\t\t\t\tLEFT JOIN sys.partition_range_values rv ON  pf.function_id = rv.function_id\r\n",
                "\t\t\t\t\t\t\t\t\t\t\t\t\t\t\tAND p.partition_number = rv.boundary_id\r\n",
                "\t\t\t\t\tWHERE pf.name = 'PF_OrderDate'\r\n",
                "\t\t\t\t\tAND rv.value = @RightBoundary)\r\n",
                "\r\n",
                "PRINT 'Switching Partition ID  ' + CONVERT(varchar(10), @PartitionId); \r\n",
                "\r\n",
                "ALTER TABLE [Sales].[Orders_Part] SWITCH PARTITION @PartitionId TO [Sales].[Orders_Part_Temp];\r\n",
                "\r\n",
                "-- Check Partition overview. The partition should still be there, but without any rows"
            ],
            "metadata": {
                "azdata_cell_guid": "b33798df-3055-4c41-ae03-cd75db1c7ed2",
                "tags": []
            },
            "outputs": [
                {
                    "output_type": "display_data",
                    "data": {
                        "text/html": "Switching Partition ID  20"
                    },
                    "metadata": {}
                },
                {
                    "output_type": "display_data",
                    "data": {
                        "text/html": "Total execution time: 00:00:00.078"
                    },
                    "metadata": {}
                }
            ],
            "execution_count": 91
        },
        {
            "cell_type": "markdown",
            "source": [
                "## Step 3c: Truncate temp-table"
            ],
            "metadata": {
                "azdata_cell_guid": "3e70c7ae-2215-44a5-a8b0-00623b9b45a6"
            }
        },
        {
            "cell_type": "code",
            "source": [
                "TRUNCATE TABLE [Sales].[Orders_Part_Temp];\r\n",
                "GO"
            ],
            "metadata": {
                "azdata_cell_guid": "f58a9178-e700-4a4b-9666-774f2d6033cd",
                "tags": []
            },
            "outputs": [
                {
                    "output_type": "display_data",
                    "data": {
                        "text/html": "Commands completed successfully."
                    },
                    "metadata": {}
                },
                {
                    "output_type": "display_data",
                    "data": {
                        "text/html": "Total execution time: 00:00:00.004"
                    },
                    "metadata": {}
                }
            ],
            "execution_count": 92
        },
        {
            "cell_type": "markdown",
            "source": [
                "# Step 4: Move the partition from two months ago to the SECONDARY filegroup"
            ],
            "metadata": {
                "azdata_cell_guid": "48189163-641d-46e2-abc1-11bac92f4e5b"
            }
        },
        {
            "cell_type": "code",
            "source": [
                "DECLARE @RightBoundary INT;\r\n",
                "SET @RightBoundary = (SELECT TOP(1) CONVERT(int, CONVERT(nvarchar(8), DATEADD(month, DATEDIFF(month, 0, DATEADD(MONTH, -2, GETDATE())), 0), 112)));\r\n",
                "\r\n",
                "print @RightBoundary\r\n",
                "\r\n",
                "ALTER PARTITION FUNCTION PF_OrderDate() MERGE RANGE(@RightBoundary);\r\n",
                "\r\n",
                "ALTER PARTITION SCHEME PS_OrderDate NEXT USED [USERDATA];\r\n",
                "\r\n",
                "ALTER PARTITION FUNCTION PF_OrderDate() SPLIT RANGE(@RightBoundary);\r\n",
                "GO\r\n",
                "\r\n",
                "-- Check Partition overview. The only change is that the partition has moved from PRIMARY to the secondary partition"
            ],
            "metadata": {
                "azdata_cell_guid": "e81cb469-c8c3-4447-842f-fdd9843f77b2",
                "tags": []
            },
            "outputs": [
                {
                    "output_type": "display_data",
                    "data": {
                        "text/html": "20210401"
                    },
                    "metadata": {}
                },
                {
                    "output_type": "display_data",
                    "data": {
                        "text/html": "Commands completed successfully."
                    },
                    "metadata": {}
                },
                {
                    "output_type": "display_data",
                    "data": {
                        "text/html": "Total execution time: 00:00:00.041"
                    },
                    "metadata": {}
                }
            ],
            "execution_count": 93
        },
        {
            "cell_type": "markdown",
            "source": [
                "# Step 5: Move the data from the Merge-table into the main table (on SECONDARY, monthly partition)"
            ],
            "metadata": {
                "azdata_cell_guid": "da4bfb4c-8ae5-48c8-862a-a40306129532"
            }
        },
        {
            "cell_type": "markdown",
            "source": [
                "## Step 5a: Put a clustered index on the Merge-table in order to switch"
            ],
            "metadata": {
                "azdata_cell_guid": "723b84fc-f7e6-4678-ae6e-b95bee6ee29a"
            }
        },
        {
            "cell_type": "code",
            "source": [
                "CREATE CLUSTERED INDEX IX_Sales_Orders_Part_Merge_OrderDate\r\n",
                "  ON Sales.Orders_Part_Merge (OrderDate_int)\r\n",
                "  WITH (STATISTICS_NORECOMPUTE = OFF, IGNORE_DUP_KEY = OFF,\r\n",
                "         ALLOW_ROW_LOCKS = ON, ALLOW_PAGE_LOCKS = ON)\r\n",
                "  ON PS_OrderDate(OrderDate_int)"
            ],
            "metadata": {
                "azdata_cell_guid": "11b6b8a2-06e3-4ccb-a17d-25e6616947a7",
                "tags": []
            },
            "outputs": [
                {
                    "output_type": "display_data",
                    "data": {
                        "text/html": "Commands completed successfully."
                    },
                    "metadata": {}
                },
                {
                    "output_type": "display_data",
                    "data": {
                        "text/html": "Total execution time: 00:00:00.619"
                    },
                    "metadata": {}
                }
            ],
            "execution_count": 94
        },
        {
            "cell_type": "markdown",
            "source": [
                "## Step 5b: Switch the partition from the merge table to the main table"
            ],
            "metadata": {
                "azdata_cell_guid": "5f20bc7a-4d85-4af6-aa6a-26332b5e79ca"
            }
        },
        {
            "cell_type": "code",
            "source": [
                "DECLARE @PartitionId INT;\r\n",
                "DECLARE @RightBoundary INT;\r\n",
                "\r\n",
                "SET @RightBoundary = (SELECT TOP(1) CONVERT(int, CONVERT(nvarchar(8), DATEADD(month, DATEDIFF(month, 0, DATEADD(MONTH, -1, GETDATE())), 0), 112)));\r\n",
                "\r\n",
                "SET @PartitionId = (SELECT TOP (1) p.partition_number\r\n",
                "\t\t\t\t\tFROM sys.partition_functions AS pf\r\n",
                "\t\t\t\t\tJOIN sys.partition_schemes AS ps ON ps.function_id = pf.function_id\r\n",
                "\t\t\t\t\tJOIN sys.indexes AS si ON si.data_space_id = ps.data_space_id\r\n",
                "\t\t\t\t\tJOIN sys.partitions AS p ON  si.object_id = p.object_id AND si.index_id = p.index_id\r\n",
                "\t\t\t\t\tLEFT JOIN sys.partition_range_values rv ON  pf.function_id = rv.function_id\r\n",
                "\t\t\t\t\t\t\t\t\t\t\t\t\t\t\tAND p.partition_number = rv.boundary_id\r\n",
                "\t\t\t\t\tWHERE pf.name = 'PF_OrderDate'\r\n",
                "\t\t\t\t\tAND rv.value = @RightBoundary)\r\n",
                "\r\n",
                "PRINT 'Switching Partition ID  ' + CONVERT(varchar(10), @PartitionId); \r\n",
                "\r\n",
                "ALTER TABLE [Sales].[Orders_Part_Merge] SWITCH PARTITION @PartitionId TO [Sales].[Orders_Part] PARTITION @PartitionId;\r\n",
                "\r\n",
                "-- Check Partition overview. The end result has been reached, the complete month on one partition in the secondary filegroup! :)"
            ],
            "metadata": {
                "azdata_cell_guid": "a013592d-ea8b-4df4-9283-a4e96cc6c672",
                "tags": []
            },
            "outputs": [
                {
                    "output_type": "display_data",
                    "data": {
                        "text/html": "Switching Partition ID  20"
                    },
                    "metadata": {}
                },
                {
                    "output_type": "display_data",
                    "data": {
                        "text/html": "Total execution time: 00:00:00.123"
                    },
                    "metadata": {}
                }
            ],
            "execution_count": 95
        },
        {
            "cell_type": "markdown",
            "source": [
                "# Cleanup"
            ],
            "metadata": {
                "azdata_cell_guid": "cd819fea-988b-4f08-a3c8-e1f0d669d610"
            }
        },
        {
            "cell_type": "code",
            "source": [
                "DROP TABLE IF EXISTS [Sales].[Orders_Part_Merge];\r\n",
                "DROP TABLE IF EXISTS [Sales].[Orders_Part_Temp];\r\n",
                "\r\n",
                "-- Unpartition table\r\n",
                "CREATE CLUSTERED INDEX IX_Sales_Orders_OrderDate\r\n",
                "    ON Sales.Orders_Part (OrderDate_int)\r\n",
                "    WITH (DROP_EXISTING = ON)\r\n",
                "    ON [PRIMARY];\r\n",
                "GO"
            ],
            "metadata": {
                "azdata_cell_guid": "a3db613e-5ced-40ec-8459-4dd9f297b907",
                "tags": []
            },
            "outputs": [],
            "execution_count": null
        }
    ]
}